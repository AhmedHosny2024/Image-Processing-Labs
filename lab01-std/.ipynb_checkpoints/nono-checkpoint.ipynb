{
 "cells": [
  {
   "cell_type": "code",
   "execution_count": 1,
   "id": "9071263e",
   "metadata": {},
   "outputs": [],
   "source": [
    "import skimage.io as io\n",
    "\n",
    "# Show the figures / plots inside the notebook\n",
    "%matplotlib inline\n",
    "from skimage.color import rgb2gray,rgb2hsv,rgba2rgb\n",
    "import matplotlib.pyplot as plt\n",
    "import numpy as np\n",
    "from skimage.util import random_noise\n",
    "import numpy as np\n",
    "\n",
    "from skimage.exposure import histogram\n",
    "from matplotlib.pyplot import bar\n"
   ]
  },
  {
   "cell_type": "code",
   "execution_count": 2,
   "id": "38750df2",
   "metadata": {},
   "outputs": [],
   "source": [
    "\n",
    "def show_images(images,titles=None):\n",
    "    #This function is used to show image(s) with titles by sending an array of images and an array of associated titles.\n",
    "    # images[0] will be drawn with the title titles[0] if exists\n",
    "    # You aren't required to understand this function, use it as-is.\n",
    "    n_ims = len(images)\n",
    "    if titles is None: titles = ['(%d)' % i for i in range(1,n_ims + 1)]\n",
    "    fig = plt.figure()\n",
    "    n = 1\n",
    "    for image,title in zip(images,titles):\n",
    "        a = fig.add_subplot(1,n_ims,n)\n",
    "        if image.ndim == 2: \n",
    "            plt.gray()\n",
    "        plt.imshow(image)\n",
    "        a.set_title(title)\n",
    "        n += 1\n",
    "    fig.set_size_inches(np.array(fig.get_size_inches()) * n_ims)\n",
    "    plt.show()"
   ]
  },
  {
   "cell_type": "code",
   "execution_count": 3,
   "id": "1b7d9ed2",
   "metadata": {},
   "outputs": [],
   "source": [
    "# Use this function to show a histogram\n",
    "# The image should be gray-scale and should range from 0 to 1\n",
    "def showHist(img,histogramImg):\n",
    "    plt.figure()\n",
    "    bar(histogramImg[1]*255, histogramImg[0], width=0.8, align='center')"
   ]
  },
  {
   "cell_type": "code",
   "execution_count": 4,
   "id": "59fb3a66",
   "metadata": {},
   "outputs": [
    {
     "data": {
      "image/png": "[encoded data removed]",
      "text/plain": [
       "<Figure size 432x288 with 1 Axes>"
      ]
     },
     "metadata": {
      "needs_background": "light"
     },
     "output_type": "display_data"
    },
    {
     "data": {
      "image/png": "[encoded data removed]",
      "text/plain": [
       "<Figure size 432x288 with 1 Axes>"
      ]
     },
     "metadata": {
      "needs_background": "light"
     },
     "output_type": "display_data"
    }
   ],
   "source": [
    "'''\n",
    "** 2- Draw a grey-scale image that has uniform histogram \n",
    "same number of pixels for all intensity levels) using code only. Let the size of the image be 256x256.\n",
    "use np.ones to draw image with ones.\n",
    "'''\n",
    "unifrom_image=np.ones((256,256),dtype='float64')\n",
    "m=unifrom_image.shape[1]\n",
    "for x in range(m):\n",
    "    unifrom_image[:,x]=255\n",
    "\n",
    "show_images(images=[unifrom_image],titles=['Original'])\n",
    "unifrom_image/=255.0\n",
    "histogram_unifrom=histogram(unifrom_image,nbins=256)\n",
    "showHist(img=unifrom_image,histogramImg=histogram_unifrom)\n",
    "## there arse space because 48/255 ..etc be scaled"
   ]
  },
  {
   "cell_type": "code",
   "execution_count": null,
   "id": "1cc03e79",
   "metadata": {},
   "outputs": [],
   "source": []
  }
 ],
 "metadata": {
  "kernelspec": {
   "display_name": "Python 3 (ipykernel)",
   "language": "python",
   "name": "python3"
  },
  "language_info": {
   "codemirror_mode": {
    "name": "ipython",
    "version": 3
   },
   "file_extension": ".py",
   "mimetype": "text/x-python",
   "name": "python",
   "nbconvert_exporter": "python",
   "pygments_lexer": "ipython3",
   "version": "3.9.12"
  }
 },
 "nbformat": 4,
 "nbformat_minor": 5
}
