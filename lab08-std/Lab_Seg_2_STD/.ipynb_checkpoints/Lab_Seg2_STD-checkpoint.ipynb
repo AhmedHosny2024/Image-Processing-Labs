{
 "cells": [
  {
   "cell_type": "markdown",
   "metadata": {},
   "source": [
    "# Lab Segmentation 2"
   ]
  },
  {
   "cell_type": "code",
   "execution_count": 2,
   "metadata": {},
   "outputs": [
    {
     "name": "stdout",
     "output_type": "stream",
     "text": [
      "The autoreload extension is already loaded. To reload it, use:\n",
      "  %reload_ext autoreload\n"
     ]
    },
    {
     "ename": "ImportError",
     "evalue": "cannot import name 'gaussian' from 'skimage.feature' (C:\\Users\\Eslam Ashraf\\anaconda3\\lib\\site-packages\\skimage\\feature\\__init__.py)",
     "output_type": "error",
     "traceback": [
      "\u001b[1;31m---------------------------------------------------------------------------\u001b[0m",
      "\u001b[1;31mImportError\u001b[0m                               Traceback (most recent call last)",
      "Input \u001b[1;32mIn [2]\u001b[0m, in \u001b[0;36m<cell line: 6>\u001b[1;34m()\u001b[0m\n\u001b[0;32m      4\u001b[0m get_ipython()\u001b[38;5;241m.\u001b[39mrun_line_magic(\u001b[38;5;124m'\u001b[39m\u001b[38;5;124mload_ext\u001b[39m\u001b[38;5;124m'\u001b[39m, \u001b[38;5;124m'\u001b[39m\u001b[38;5;124mautoreload\u001b[39m\u001b[38;5;124m'\u001b[39m)\n\u001b[0;32m      5\u001b[0m get_ipython()\u001b[38;5;241m.\u001b[39mrun_line_magic(\u001b[38;5;124m'\u001b[39m\u001b[38;5;124mautoreload\u001b[39m\u001b[38;5;124m'\u001b[39m, \u001b[38;5;124m'\u001b[39m\u001b[38;5;124m2\u001b[39m\u001b[38;5;124m'\u001b[39m)\n\u001b[1;32m----> 6\u001b[0m \u001b[38;5;28;01mfrom\u001b[39;00m \u001b[38;5;21;01mskimage\u001b[39;00m\u001b[38;5;21;01m.\u001b[39;00m\u001b[38;5;21;01mfeature\u001b[39;00m \u001b[38;5;28;01mimport\u001b[39;00m gaussian\n",
      "\u001b[1;31mImportError\u001b[0m: cannot import name 'gaussian' from 'skimage.feature' (C:\\Users\\Eslam Ashraf\\anaconda3\\lib\\site-packages\\skimage\\feature\\__init__.py)"
     ]
    }
   ],
   "source": [
    "from commonfunctions import *\n",
    "from skimage.filters import median, gaussian\n",
    "%matplotlib inline\n",
    "%load_ext autoreload\n",
    "%autoreload 2\n",
    "from skimage.filters import gaussian"
   ]
  },
  {
   "cell_type": "code",
   "execution_count": null,
   "metadata": {},
   "outputs": [],
   "source": [
    "def calc_T(histOrig, start, end):\n",
    "    if(start==end):\n",
    "        return start-1\n",
    "    L=list(range(start, end))\n",
    "\n",
    "    sum = np.sum(np.multiply(histOrig, L))\n",
    "    cdf = histOrig.cumsum()\n",
    "\n",
    "    T = cdf[-1]!=0 and round(sum/cdf[-1]) or 0\n",
    "    return T"
   ]
  },
  {
   "cell_type": "code",
   "execution_count": null,
   "metadata": {},
   "outputs": [],
   "source": [
    "def conver_gray(img):\n",
    "    if(len(img.shape)==2):\n",
    "        img=img\n",
    "    elif(img.shape[2]==4):\n",
    "        img=rgb2gray(rgba2rgb(img))\n",
    "        img=img*255\n",
    "    elif(img.shape[2]==3):\n",
    "        img=rgb2gray(img)\n",
    "        img=img*255\n",
    "    return img"
   ]
  },
  {
   "cell_type": "code",
   "execution_count": null,
   "metadata": {},
   "outputs": [],
   "source": [
    "def getThreshold(img):\n",
    "\n",
    "    img = img.astype('uint8')\n",
    "\n",
    "    histOrig, bins = np.histogram(img, 256, [0, 255])\n",
    "\n",
    "    T = calc_T(histOrig, 0, 256)\n",
    "    T_new =  T\n",
    "\n",
    "    while(True):\n",
    "        T_prev = T_new\n",
    "        lower = histOrig[0:T_prev+1]\n",
    "        T_lower = calc_T(lower, 0, T_prev+1)\n",
    "\n",
    "        upper = histOrig[T_prev+1:256]\n",
    "        T_upper = calc_T(upper, T_prev+1, 256)\n",
    "        \n",
    "        T_new = (T_lower + T_upper)//2\n",
    "\n",
    "        if(T_new == T_prev or abs(T_new-T_prev)==1):\n",
    "            break\n",
    "\n",
    "    # this is exactly the condition but it works\n",
    "    img = np.where(img>T_new-1,255,0) \n",
    "    return img\n"
   ]
  },
  {
   "cell_type": "code",
   "execution_count": null,
   "metadata": {},
   "outputs": [],
   "source": [
    "img1 = getThreshold(conver_gray(io.imread('book.png')))\n",
    "img2 = getThreshold(conver_gray(io.imread('book1.png')))\n",
    "img3 = getThreshold(conver_gray(io.imread('cameraman.png')))\n",
    "img4 = getThreshold(conver_gray(io.imread('cufe.png')))\n",
    "\n",
    "show_images([img1,img2,img3,img4])"
   ]
  },
  {
   "cell_type": "code",
   "execution_count": null,
   "metadata": {},
   "outputs": [],
   "source": [
    "img = conver_gray(io.imread('book.png'))\n",
    "img_global = img.copy()\n",
    "\n",
    "def recursive(img, i):\n",
    "    if(img.min()==img.max()):\n",
    "        return img\n",
    "    h , w = img.shape\n",
    "    if (h<7 or w<7):\n",
    "        img = getThreshold(img)\n",
    "        return img\n",
    "\n",
    "    img1 = img[0:h//2, 0:w//2]\n",
    "    img2 = img[h//2:h, 0:w//2]\n",
    "    img3 = img[0:h//2, w//2:w]\n",
    "    img4 = img[h//2:h, w//2:w]\n",
    "    img[0:h//2, 0:w//2] = recursive(img1, i+1)\n",
    "    img[h//2:h, 0:w//2] = recursive(img2, i+1)\n",
    "    img[0:h//2, w//2:w] = recursive(img3, i+1)\n",
    "    img[h//2:h, w//2:w] = recursive(img4, i+1)\n",
    "    return img\n",
    "\n",
    "i=0\n",
    "img = recursive(img, i)\n",
    "# filtered = func(img,3)\n",
    "img_global = getThreshold(img_global)\n",
    "after_image = median(img)\n",
    "\n",
    "img=gaussian(img,sigma=1.5)\n",
    "show_images([img_global, img])"
   ]
  },
  {
   "cell_type": "code",
   "execution_count": null,
   "metadata": {},
   "outputs": [],
   "source": [
    "img = io.imread('book.png')\n",
    "img_global = img.copy()\n",
    "if(len(img.shape)==2):\n",
    "    img=img\n",
    "elif(img.shape[2]==4):\n",
    "    img=rgb2gray(rgba2rgb(img))\n",
    "    img=img*255\n",
    "elif(img.shape[2]==3):\n",
    "    img=rgb2gray(img)\n",
    "    img=img*255\n",
    "\n",
    "h , w = img.shape\n",
    "\n",
    "img1 = getThreshold(img[0:h//2, 0:w//2])\n",
    "img2 = getThreshold(img[h//2:h, 0:w//2])\n",
    "img3 = getThreshold(img[0:h//2, w//2:w])\n",
    "img4 = getThreshold(img[h//2:h, w//2:w])\n",
    "\n",
    "img[0:h//2, 0:w//2] = img1\n",
    "img[h//2:h, 0:w//2] = img2\n",
    "img[0:h//2, w//2:w] = img3\n",
    "img[h//2:h, w//2:w] = img4\n",
    "\n",
    "img_global = getThreshold(img_global)\n",
    "\n",
    "show_images([img_global,img])\n"
   ]
  }
 ],
 "metadata": {
  "kernelspec": {
   "display_name": "Python 3 (ipykernel)",
   "language": "python",
   "name": "python3"
  },
  "language_info": {
   "codemirror_mode": {
    "name": "ipython",
    "version": 3
   },
   "file_extension": ".py",
   "mimetype": "text/x-python",
   "name": "python",
   "nbconvert_exporter": "python",
   "pygments_lexer": "ipython3",
   "version": "3.9.12"
  },
  "vscode": {
   "interpreter": {
    "hash": "52d90d3cc821dd0beedd6e719dbdecc722c226b9d90ed1b663c34e1877f1142e"
   }
  }
 },
 "nbformat": 4,
 "nbformat_minor": 2
}
